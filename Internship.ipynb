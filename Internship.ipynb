{
  "nbformat": 4,
  "nbformat_minor": 0,
  "metadata": {
    "colab": {
      "name": "Internship.ipynb",
      "provenance": [],
      "authorship_tag": "ABX9TyN5dP7AlFZc38Qv3KDQH+lI",
      "include_colab_link": true
    },
    "kernelspec": {
      "name": "python3",
      "display_name": "Python 3"
    },
    "language_info": {
      "name": "python"
    }
  },
  "cells": [
    {
      "cell_type": "markdown",
      "metadata": {
        "id": "view-in-github",
        "colab_type": "text"
      },
      "source": [
        "<a href=\"https://colab.research.google.com/github/whythoSanskar/mlprojects/blob/main/Internship.ipynb\" target=\"_parent\"><img src=\"https://colab.research.google.com/assets/colab-badge.svg\" alt=\"Open In Colab\"/></a>"
      ]
    },
    {
      "cell_type": "markdown",
      "source": [
        "\n",
        "1. Develop code using (Numpy, Pandas, Matplotlib)."
      ],
      "metadata": {
        "id": "R9uwPo57lLWz"
      }
    },
    {
      "cell_type": "code",
      "source": [
        "%matplotlib inline\n",
        "import pandas as pd\n",
        "import matplotlib.pyplot as plt\n",
        "import numpy as np\n",
        "\n",
        "\n",
        "df=pd.read_excel(r\"/content/Book 2 (1).xlsx\")\n",
        "df\n",
        "x = df['Position']\n",
        "y = df['Salary']\n",
        "plt.plot(x,y, color = \"blue\")\n",
        "plt.show()\n",
        "\n",
        "col_to_list = df['Salary'].to_list()\n",
        "col_to_arr =  df['Salary'].to_numpy()\n",
        "\n",
        "\n",
        "print(col_to_arr)"
      ],
      "metadata": {
        "id": "8L8jfC7JlK6p",
        "colab": {
          "base_uri": "https://localhost:8080/",
          "height": 282
        },
        "outputId": "1e615960-93ea-4e75-ce1b-41bd8353d603"
      },
      "execution_count": 4,
      "outputs": [
        {
          "output_type": "display_data",
          "data": {
            "text/plain": [
              "<Figure size 432x288 with 1 Axes>"
            ],
            "image/png": "[encoded data removed]"
          },
          "metadata": {
            "needs_background": "light"
          }
        },
        {
          "output_type": "stream",
          "name": "stdout",
          "text": [
            "[20000  5000 40000  5000 14000 20000  5000 14000  5000 14000]\n"
          ]
        }
      ]
    },
    {
      "cell_type": "markdown",
      "source": [
        "2. Create a program to show recursive function (Except factorial)."
      ],
      "metadata": {
        "id": "3QKViht3BIBm"
      }
    },
    {
      "cell_type": "code",
      "source": [
        "# recursive function\n",
        "s = int(input(\"Enter the two numbers to find gcd: \"))\n",
        "d = int(input(\"Enter the other number: \"))\n",
        "\n",
        "\n",
        "def GCD_num(s,d):\n",
        "  low = min(s,d)\n",
        "  high = max(s,d)\n",
        "\n",
        "  if low == 0:\n",
        "    return high\n",
        "  elif low == 1:\n",
        "    return 1\n",
        "  else:\n",
        "    return GCD_num(low, high%low)\n",
        "\n",
        "print(GCD_num(s,d))\n",
        " "
      ],
      "metadata": {
        "colab": {
          "base_uri": "https://localhost:8080/"
        },
        "id": "RW3gTQEPIKvV",
        "outputId": "fcd38665-f07d-4989-9f35-2ba40a4ef282"
      },
      "execution_count": null,
      "outputs": [
        {
          "output_type": "stream",
          "name": "stdout",
          "text": [
            "Enter the two numbers to find gcd: 22\n",
            "Enter the other number: 24\n",
            "2\n"
          ]
        }
      ]
    },
    {
      "cell_type": "code",
      "source": [
        "# forwarding messages\n",
        "\n",
        "messages = [\"Ishan\", \"Yash\", \"Mayank\", \"Ishaan\", \"Vibhanshu\"]\n",
        "\n",
        "def forward_messages():\n",
        "  try:\n",
        "    if y < 6:\n",
        "      print(\"Your message \" + x + \" is sending to \" + messages[y])\n",
        "    elif y == 6:\n",
        "      for message in messages:\n",
        "        print(\"Your message \" + x + \" is sending to \" + message)\n",
        "  except:\n",
        "    print(\"Error\")\n",
        "\n",
        "x = input(\"Enter the message you want to forward to: \")\n",
        "y = int(input(\"Enter the person that you have to send message:\\n(0) Ishan\\n\\n(1) Yash\\n\\n(2) Mayank\\n\\n(3) Ishaan\\n\\n(4) Vibhanshu\\n\\n(5) All\\n\\n: \"))\n",
        "if x == \"\":\n",
        "  print(\"error\")\n",
        "else:\n",
        "  forward_messages()\n"
      ],
      "metadata": {
        "colab": {
          "base_uri": "https://localhost:8080/"
        },
        "id": "TduAxu02BRTv",
        "outputId": "9d75a9a0-fab0-42ab-ddf5-c29d3d69b871"
      },
      "execution_count": null,
      "outputs": [
        {
          "output_type": "stream",
          "name": "stdout",
          "text": [
            "Enter the message you want to forward to: we\n",
            "Enter the person that you have to send message:\n",
            "(0) Ishan\n",
            "\n",
            "(1) Yash\n",
            "\n",
            "(2) Mayank\n",
            "\n",
            "(3) Ishaan\n",
            "\n",
            "(4) Vibhanshu\n",
            "\n",
            "(5) All\n",
            "\n",
            ": 0\n",
            "Your message weis sending to Ishan\n"
          ]
        }
      ]
    },
    {
      "cell_type": "markdown",
      "source": [
        "Matrix multiplication in Numpy and how to inverse a matrix using Numpy.\n"
      ],
      "metadata": {
        "id": "PUo0Yu33Ie6Q"
      }
    },
    {
      "cell_type": "code",
      "source": [
        "import numpy as np\n",
        "# input the matrix \n",
        "mat1 = ([1,2,3], [4,5,6], [8,7,9])\n",
        "mat2 = ([17,32,4], [6,3,8], [9,10,2])\n",
        "# multiplying the matrix\n",
        "matf = np.multiply(mat1,mat2)\n",
        "matg = np.dot(mat1,mat2)\n",
        "print(matf)\n",
        "print(matg)\n",
        "# calculationg inverse of matrix\n",
        "print(np.linalg.inv(matf))"
      ],
      "metadata": {
        "colab": {
          "base_uri": "https://localhost:8080/"
        },
        "id": "FBPDbnjvIkQr",
        "outputId": "05a85514-4269-4ce7-cb4f-d761810620e4"
      },
      "execution_count": null,
      "outputs": [
        {
          "output_type": "stream",
          "name": "stdout",
          "text": [
            "[[17 64 12]\n",
            " [24 15 48]\n",
            " [72 70 18]]\n",
            "[[ 56  68  26]\n",
            " [152 203  68]\n",
            " [259 367 106]]\n",
            "[[-0.02084936 -0.00210518  0.01951338]\n",
            " [ 0.02040403 -0.00376503 -0.00356261]\n",
            " [ 0.00404842  0.02306249 -0.00864337]]\n"
          ]
        }
      ]
    },
    {
      "cell_type": "markdown",
      "source": [
        "(4) Prepare the data and create the mean median mode for the following data."
      ],
      "metadata": {
        "id": "8wVoawL_oV4g"
      }
    },
    {
      "cell_type": "code",
      "source": [
        "import pandas as pd\n",
        "\n",
        "# df = pd.read_excel(r\"/content/Book 2 (1).xlsx\")\n",
        "# df"
      ],
      "metadata": {
        "id": "5tVppgpvNpsM"
      },
      "execution_count": null,
      "outputs": []
    },
    {
      "cell_type": "code",
      "source": [
        "df['Salary'].mode()"
      ],
      "metadata": {
        "colab": {
          "base_uri": "https://localhost:8080/"
        },
        "id": "8Y6PvXIXbLlm",
        "outputId": "f063394a-e2e8-4b95-e49d-947630ad43fe"
      },
      "execution_count": null,
      "outputs": [
        {
          "output_type": "execute_result",
          "data": {
            "text/plain": [
              "0    5000\n",
              "dtype: int64"
            ]
          },
          "metadata": {},
          "execution_count": 26
        }
      ]
    },
    {
      "cell_type": "code",
      "source": [
        "df['Salary'].median()"
      ],
      "metadata": {
        "colab": {
          "base_uri": "https://localhost:8080/"
        },
        "id": "V1AYgamTjBrV",
        "outputId": "ec711118-9dcd-4951-8686-410b00f27252"
      },
      "execution_count": null,
      "outputs": [
        {
          "output_type": "execute_result",
          "data": {
            "text/plain": [
              "14000.0"
            ]
          },
          "metadata": {},
          "execution_count": 27
        }
      ]
    },
    {
      "cell_type": "code",
      "source": [
        "df['Salary'].mean()"
      ],
      "metadata": {
        "colab": {
          "base_uri": "https://localhost:8080/"
        },
        "id": "4e7l2qkgjHWQ",
        "outputId": "00d31e3f-a421-41f2-f1c4-667ecb7d62da"
      },
      "execution_count": null,
      "outputs": [
        {
          "output_type": "execute_result",
          "data": {
            "text/plain": [
              "14200.0"
            ]
          },
          "metadata": {},
          "execution_count": 28
        }
      ]
    },
    {
      "cell_type": "markdown",
      "source": [
        "(5) How to set a single Main Title for All the Subplots in Matplotlib."
      ],
      "metadata": {
        "id": "gRnvl5RronEa"
      }
    },
    {
      "cell_type": "markdown",
      "source": [
        " We use matplotlib. pyplot. suptitle() method to set main title common to all subplots in Matplotlib."
      ],
      "metadata": {
        "id": "PxXg2HXRG5Qa"
      }
    },
    {
      "cell_type": "code",
      "source": [
        "fig, (ax1, ax2) = plt.subplots(1, 2, figsize=(12, 5))\n",
        "x = df['Position']\n",
        "y = df['Salary']\n",
        "labels = [\"Data1\", \"Data2\"]\n",
        "fig.suptitle(' Data of postion of people and their salaries ', fontsize=30)\n",
        "l1 = ax1.plot(x, y, 'o-', color='g')\n",
        "l2 = ax2.plot(x1, y, 'o-')\n",
        "\n",
        "fig.legend([l1, l2], labels=labels,\n",
        "           loc=\"upper right\")\n",
        "plt.subplots_adjust(right=0.9)\n",
        "plt.show()\n",
        "\n",
        "\n"
      ],
      "metadata": {
        "colab": {
          "base_uri": "https://localhost:8080/",
          "height": 374
        },
        "id": "fa7b2Uq_HDWb",
        "outputId": "2041bb06-8359-4b1b-bc43-1441e3309828"
      },
      "execution_count": null,
      "outputs": [
        {
          "output_type": "stream",
          "name": "stderr",
          "text": [
            "/usr/local/lib/python3.7/dist-packages/ipykernel_launcher.py:10: UserWarning: You have mixed positional and keyword arguments, some input may be discarded.\n",
            "  # Remove the CWD from sys.path while we load stuff.\n"
          ]
        },
        {
          "output_type": "display_data",
          "data": {
            "text/plain": [
              "<Figure size 864x360 with 2 Axes>"
            ],
            "image/png": "[encoded data removed]"
          },
          "metadata": {
            "needs_background": "light"
          }
        }
      ]
    },
    {
      "cell_type": "markdown",
      "source": [
        "Calculate Standard Deviation using python programming using Python programming\n"
      ],
      "metadata": {
        "id": "_WcMjIUkOgu2"
      }
    },
    {
      "cell_type": "code",
      "source": [
        "df\n",
        "\n",
        "arr = df['Salary'].to_numpy()\n",
        "print('Standard deviation of the dataset is: ', np.std(arr, dtype= np.float32))\n",
        "print('Standard deviation of the dataset is: ', np.std(arr, dtype = np.float64))\n"
      ],
      "metadata": {
        "colab": {
          "base_uri": "https://localhost:8080/"
        },
        "id": "C92KHr0ZPDMJ",
        "outputId": "2da4716f-08b4-4580-86a2-ac0ef5dd3b4d"
      },
      "execution_count": null,
      "outputs": [
        {
          "output_type": "stream",
          "name": "stdout",
          "text": [
            "Standard deviation of the dataset is:  10351.812\n",
            "Standard deviation of the dataset is:  10351.811435686026\n"
          ]
        }
      ]
    },
    {
      "cell_type": "markdown",
      "source": [
        "How to calculate range of the following dataset"
      ],
      "metadata": {
        "id": "tdhd32KRRzqc"
      }
    },
    {
      "cell_type": "code",
      "source": [
        "set = {7,89,42,5,67,89,456,789, 56}\n",
        "print(\"Range is\", max(set) - min(set))"
      ],
      "metadata": {
        "colab": {
          "base_uri": "https://localhost:8080/"
        },
        "id": "uBtxiY7DRy_N",
        "outputId": "9600049e-3343-4ccf-e4cc-33ac39f512f6"
      },
      "execution_count": null,
      "outputs": [
        {
          "output_type": "stream",
          "name": "stdout",
          "text": [
            "Range is 784\n"
          ]
        }
      ]
    },
    {
      "cell_type": "markdown",
      "source": [
        "HISTOGRAM\n"
      ],
      "metadata": {
        "id": "pPJ1aOH_Z8Hw"
      }
    },
    {
      "cell_type": "code",
      "source": [
        "import numpy as np\n",
        "import pandas as pd\n",
        "import matplotlib.pyplot as plt\n",
        "\n",
        "f = df['Salary']\n",
        "g = df['Position']\n",
        "hist = plt.xlabel('Position', fontsize = 15)\n",
        "hist = plt.ylabel('Salary', fontsize = 16)\n",
        "plt.hist(g)\n",
        "\n",
        "plt.show()"
      ],
      "metadata": {
        "colab": {
          "base_uri": "https://localhost:8080/",
          "height": 284
        },
        "id": "84uJ13EIaAJA",
        "outputId": "6e1d7f2a-2e0f-4448-e7c0-b2e7ed56003b"
      },
      "execution_count": null,
      "outputs": [
        {
          "output_type": "display_data",
          "data": {
            "text/plain": [
              "<Figure size 432x288 with 1 Axes>"
            ],
            "image/png": "[encoded data removed]"
          },
          "metadata": {
            "needs_background": "light"
          }
        }
      ]
    },
    {
      "cell_type": "markdown",
      "source": [
        "Linear regression\n"
      ],
      "metadata": {
        "id": "5Hx0lnkVd_G1"
      }
    },
    {
      "cell_type": "code",
      "source": [
        "df.head()"
      ],
      "metadata": {
        "colab": {
          "base_uri": "https://localhost:8080/",
          "height": 206
        },
        "id": "YW2KmPRbd-mf",
        "outputId": "dfcebad0-6058-4cbf-889e-5654b67bdcaa"
      },
      "execution_count": null,
      "outputs": [
        {
          "output_type": "execute_result",
          "data": {
            "text/plain": [
              "      Name  Position  Salary\n",
              "0  Ishan     Manager   20000\n",
              "1  Mayank   Employee    5000\n",
              "2    Yash       Head   40000\n",
              "3  Jayant   Employee    5000\n",
              "4  Ishaan     Senior   14000"
            ],
            "text/html": [
              "\n",
              "  <div id=\"df-094ad710-861b-40f8-980d-6307a61e10df\">\n",
              "    <div class=\"colab-df-container\">\n",
              "      <div>\n",
              "<style scoped>\n",
              "    .dataframe tbody tr th:only-of-type {\n",
              "        vertical-align: middle;\n",
              "    }\n",
              "\n",
              "    .dataframe tbody tr th {\n",
              "        vertical-align: top;\n",
              "    }\n",
              "\n",
              "    .dataframe thead th {\n",
              "        text-align: right;\n",
              "    }\n",
              "</style>\n",
              "<table border=\"1\" class=\"dataframe\">\n",
              "  <thead>\n",
              "    <tr style=\"text-align: right;\">\n",
              "      <th></th>\n",
              "      <th>Name</th>\n",
              "      <th>Position</th>\n",
              "      <th>Salary</th>\n",
              "    </tr>\n",
              "  </thead>\n",
              "  <tbody>\n",
              "    <tr>\n",
              "      <th>0</th>\n",
              "      <td>Ishan</td>\n",
              "      <td>Manager</td>\n",
              "      <td>20000</td>\n",
              "    </tr>\n",
              "    <tr>\n",
              "      <th>1</th>\n",
              "      <td>Mayank</td>\n",
              "      <td>Employee</td>\n",
              "      <td>5000</td>\n",
              "    </tr>\n",
              "    <tr>\n",
              "      <th>2</th>\n",
              "      <td>Yash</td>\n",
              "      <td>Head</td>\n",
              "      <td>40000</td>\n",
              "    </tr>\n",
              "    <tr>\n",
              "      <th>3</th>\n",
              "      <td>Jayant</td>\n",
              "      <td>Employee</td>\n",
              "      <td>5000</td>\n",
              "    </tr>\n",
              "    <tr>\n",
              "      <th>4</th>\n",
              "      <td>Ishaan</td>\n",
              "      <td>Senior</td>\n",
              "      <td>14000</td>\n",
              "    </tr>\n",
              "  </tbody>\n",
              "</table>\n",
              "</div>\n",
              "      <button class=\"colab-df-convert\" onclick=\"convertToInteractive('df-094ad710-861b-40f8-980d-6307a61e10df')\"\n",
              "              title=\"Convert this dataframe to an interactive table.\"\n",
              "              style=\"display:none;\">\n",
              "        \n",
              "  <svg xmlns=\"http://www.w3.org/2000/svg\" height=\"24px\"viewBox=\"0 0 24 24\"\n",
              "       width=\"24px\">\n",
              "    <path d=\"M0 0h24v24H0V0z\" fill=\"none\"/>\n",
              "    <path d=\"M18.56 5.44l.94 2.06.94-2.06 2.06-.94-2.06-.94-.94-2.06-.94 2.06-2.06.94zm-11 1L8.5 8.5l.94-2.06 2.06-.94-2.06-.94L8.5 2.5l-.94 2.06-2.06.94zm10 10l.94 2.06.94-2.06 2.06-.94-2.06-.94-.94-2.06-.94 2.06-2.06.94z\"/><path d=\"M17.41 7.96l-1.37-1.37c-.4-.4-.92-.59-1.43-.59-.52 0-1.04.2-1.43.59L10.3 9.45l-7.72 7.72c-.78.78-.78 2.05 0 2.83L4 21.41c.39.39.9.59 1.41.59.51 0 1.02-.2 1.41-.59l7.78-7.78 2.81-2.81c.8-.78.8-2.07 0-2.86zM5.41 20L4 18.59l7.72-7.72 1.47 1.35L5.41 20z\"/>\n",
              "  </svg>\n",
              "      </button>\n",
              "      \n",
              "  <style>\n",
              "    .colab-df-container {\n",
              "      display:flex;\n",
              "      flex-wrap:wrap;\n",
              "      gap: 12px;\n",
              "    }\n",
              "\n",
              "    .colab-df-convert {\n",
              "      background-color: #E8F0FE;\n",
              "      border: none;\n",
              "      border-radius: 50%;\n",
              "      cursor: pointer;\n",
              "      display: none;\n",
              "      fill: #1967D2;\n",
              "      height: 32px;\n",
              "      padding: 0 0 0 0;\n",
              "      width: 32px;\n",
              "    }\n",
              "\n",
              "    .colab-df-convert:hover {\n",
              "      background-color: #E2EBFA;\n",
              "      box-shadow: 0px 1px 2px rgba(60, 64, 67, 0.3), 0px 1px 3px 1px rgba(60, 64, 67, 0.15);\n",
              "      fill: #174EA6;\n",
              "    }\n",
              "\n",
              "    [theme=dark] .colab-df-convert {\n",
              "      background-color: #3B4455;\n",
              "      fill: #D2E3FC;\n",
              "    }\n",
              "\n",
              "    [theme=dark] .colab-df-convert:hover {\n",
              "      background-color: #434B5C;\n",
              "      box-shadow: 0px 1px 3px 1px rgba(0, 0, 0, 0.15);\n",
              "      filter: drop-shadow(0px 1px 2px rgba(0, 0, 0, 0.3));\n",
              "      fill: #FFFFFF;\n",
              "    }\n",
              "  </style>\n",
              "\n",
              "      <script>\n",
              "        const buttonEl =\n",
              "          document.querySelector('#df-094ad710-861b-40f8-980d-6307a61e10df button.colab-df-convert');\n",
              "        buttonEl.style.display =\n",
              "          google.colab.kernel.accessAllowed ? 'block' : 'none';\n",
              "\n",
              "        async function convertToInteractive(key) {\n",
              "          const element = document.querySelector('#df-094ad710-861b-40f8-980d-6307a61e10df');\n",
              "          const dataTable =\n",
              "            await google.colab.kernel.invokeFunction('convertToInteractive',\n",
              "                                                     [key], {});\n",
              "          if (!dataTable) return;\n",
              "\n",
              "          const docLinkHtml = 'Like what you see? Visit the ' +\n",
              "            '<a target=\"_blank\" href=https://colab.research.google.com/notebooks/data_table.ipynb>data table notebook</a>'\n",
              "            + ' to learn more about interactive tables.';\n",
              "          element.innerHTML = '';\n",
              "          dataTable['output_type'] = 'display_data';\n",
              "          await google.colab.output.renderOutput(dataTable, element);\n",
              "          const docLink = document.createElement('div');\n",
              "          docLink.innerHTML = docLinkHtml;\n",
              "          element.appendChild(docLink);\n",
              "        }\n",
              "      </script>\n",
              "    </div>\n",
              "  </div>\n",
              "  "
            ]
          },
          "metadata": {},
          "execution_count": 28
        }
      ]
    },
    {
      "cell_type": "markdown",
      "source": [
        "Linear Regression"
      ],
      "metadata": {
        "id": "1qy-MFI-ROrI"
      }
    },
    {
      "cell_type": "code",
      "source": [
        "import pandas as pd\n",
        "df1 = pd.read_excel(r\"/content/DataSetN.xlsx\")\n",
        "df1\n",
        "\n",
        "from sklearn.linear_model import LinearRegression\n",
        "from sklearn.model_selection import train_test_split\n",
        "\n",
        "x2 = df1.iloc[:,:1].values\n",
        "y2 = df1.iloc[:,3].values\n",
        "X_train, X_test, y_train, y_test = train_test_split(x2,y2,test_size=1/3,random_state=0)\n",
        "regressor = LinearRegression()\n",
        "regressor.fit(X_train,y_train) #actually produces the linear eqn for the data\n",
        "y_pred = regressor.predict(X_test) \n",
        "y_pred\n",
        "\n",
        "\n",
        "#plot for the TRAIN\n",
        " \n",
        "plt.scatter(X_train, y_train, color='red') # plotting the observation line\n",
        " \n",
        "plt.plot(X_train, regressor.predict(X_train), color='blue') # plotting the regression line\n",
        " \n",
        "plt.title(\"Marks vs Roll no (Training set)\") # stating the title of the graph\n",
        " \n",
        "plt.xlabel(\"Roll no\") # adding the name of x-axis\n",
        "plt.ylabel(\"Marks\") # adding the name of y-axis\n",
        "plt.show() # specifies end of graph"
      ],
      "metadata": {
        "id": "Whjog7saRPfL",
        "colab": {
          "base_uri": "https://localhost:8080/",
          "height": 295
        },
        "outputId": "f9263b83-7618-4ca5-b702-074211d3ff00"
      },
      "execution_count": 18,
      "outputs": [
        {
          "output_type": "display_data",
          "data": {
            "text/plain": [
              "<Figure size 432x288 with 1 Axes>"
            ],
            "image/png": "[encoded data removed]"
          },
          "metadata": {
            "needs_background": "light"
          }
        }
      ]
    }
  ]
}