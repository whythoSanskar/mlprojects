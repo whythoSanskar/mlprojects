{
  "nbformat": 4,
  "nbformat_minor": 0,
  "metadata": {
    "colab": {
      "name": "Internship.ipynb",
      "provenance": [],
      "authorship_tag": "ABX9TyNOtqh9FUj0NohMGmAwqRGl",
      "include_colab_link": true
    },
    "kernelspec": {
      "name": "python3",
      "display_name": "Python 3"
    },
    "language_info": {
      "name": "python"
    }
  },
  "cells": [
    {
      "cell_type": "markdown",
      "metadata": {
        "id": "view-in-github",
        "colab_type": "text"
      },
      "source": [
        "<a href=\"https://colab.research.google.com/github/whythoSanskar/mlprojects/blob/main/Internship.ipynb\" target=\"_parent\"><img src=\"https://colab.research.google.com/assets/colab-badge.svg\" alt=\"Open In Colab\"/></a>"
      ]
    },
    {
      "cell_type": "markdown",
      "source": [
        "\n",
        "1. Develop code using (Numpy, Pandas, Matplotlib)."
      ],
      "metadata": {
        "id": "R9uwPo57lLWz"
      }
    },
    {
      "cell_type": "code",
      "source": [
        "%matplotlib inline\n",
        "import pandas as pd\n",
        "import matplotlib.pyplot as plt\n",
        "import numpy as np\n",
        "\n",
        "\n",
        "df=pd.read_excel(r\"/content/Book 2 (1).xlsx\")\n",
        "df\n",
        "x = df['Position']\n",
        "y = df['Salary']\n",
        "plt.plot(x,y, color = \"blue\")\n",
        "plt.show()\n",
        "\n",
        "col_to_list = df['Salary'].to_list()\n",
        "col_to_arr =  df['Salary'].to_numpy()\n",
        "\n",
        "\n",
        "print(col_to_arr)"
      ],
      "metadata": {
        "id": "8L8jfC7JlK6p",
        "colab": {
          "base_uri": "https://localhost:8080/",
          "height": 283
        },
        "outputId": "5e307496-1e82-4e9a-e46f-2f7a6a7d4ba8"
      },
      "execution_count": 41,
      "outputs": [
        {
          "output_type": "display_data",
          "data": {
            "text/plain": [
              "<Figure size 432x288 with 1 Axes>"
            ],
            "image/png": "[encoded data removed]"
          },
          "metadata": {
            "needs_background": "light"
          }
        },
        {
          "output_type": "stream",
          "name": "stdout",
          "text": [
            "[20000  5000 40000  5000 14000 20000  5000 14000  5000 14000]\n"
          ]
        }
      ]
    },
    {
      "cell_type": "markdown",
      "source": [
        "2. Create a program to show recursive function (Except factorial)."
      ],
      "metadata": {
        "id": "3QKViht3BIBm"
      }
    },
    {
      "cell_type": "code",
      "source": [
        "26# recursive function\n",
        "s = int(input(\"Enter the two numbers to find gcd: \"))\n",
        "d = int(input(\"Enter the other number: \"))\n",
        "\n",
        "\n",
        "def GCD_num(s,d):\n",
        "  low = min(s,d)\n",
        "  high = max(s,d)\n",
        "\n",
        "  if low == 0:\n",
        "    return high\n",
        "  elif low == 1:\n",
        "    return 1\n",
        "  else:\n",
        "    return GCD_num(low, high%low)\n",
        "\n",
        "print(GCD_num(s,d))\n",
        " "
      ],
      "metadata": {
        "colab": {
          "base_uri": "https://localhost:8080/"
        },
        "id": "RW3gTQEPIKvV",
        "outputId": "7c7d04b2-0f81-4105-f9b9-e2c35d2e7a28"
      },
      "execution_count": 42,
      "outputs": [
        {
          "output_type": "stream",
          "name": "stdout",
          "text": [
            "Enter the two numbers to find gcd: 24\n",
            "Enter the other number: 34\n",
            "2\n"
          ]
        }
      ]
    },
    {
      "cell_type": "code",
      "source": [
        "# forwarding messages\n",
        "\n",
        "messages = [\"Ishan\", \"Yash\", \"Mayank\", \"Ishaan\", \"Vibhanshu\"]\n",
        "\n",
        "def forward_messages():\n",
        "  try:\n",
        "    if y < 5:\n",
        "      print(\"Your message \" + x + \" is sending to \" + messages[y])\n",
        "    elif y == 5:\n",
        "      for message in messages:\n",
        "        print(\"Your message \" + x + \" is sending to \" + message)\n",
        "  except:\n",
        "    print(\"Error\")\n",
        "\n",
        "x = input(\"Enter the message you want to forward to: \")\n",
        "y = int(input(\"Enter the person that you have to send message:\\n(0) Ishan\\n\\n(1) Yash\\n\\n(2) Mayank\\n\\n(3) Ishaan\\n\\n(4) Vibhanshu\\n\\n(5) All\\n\\n: \"))\n",
        "if x == \"\":\n",
        "  print(\"error\")\n",
        "else:\n",
        "  forward_messages()\n"
      ],
      "metadata": {
        "colab": {
          "base_uri": "https://localhost:8080/"
        },
        "id": "TduAxu02BRTv",
        "outputId": "130bafa4-9484-4978-81f3-32e352b5d4b5"
      },
      "execution_count": 43,
      "outputs": [
        {
          "output_type": "stream",
          "name": "stdout",
          "text": [
            "Enter the message you want to forward to: go\n",
            "Enter the person that you have to send message:\n",
            "(0) Ishan\n",
            "\n",
            "(1) Yash\n",
            "\n",
            "(2) Mayank\n",
            "\n",
            "(3) Ishaan\n",
            "\n",
            "(4) Vibhanshu\n",
            "\n",
            "(5) All\n",
            "\n",
            ": 5\n",
            "Your message go is sending to Ishan\n",
            "Your message go is sending to Yash\n",
            "Your message go is sending to Mayank\n",
            "Your message go is sending to Ishaan\n",
            "Your message go is sending to Vibhanshu\n"
          ]
        }
      ]
    },
    {
      "cell_type": "markdown",
      "source": [
        "Matrix multiplication in Numpy and how to inverse a matrix using Numpy.\n"
      ],
      "metadata": {
        "id": "PUo0Yu33Ie6Q"
      }
    },
    {
      "cell_type": "code",
      "source": [
        "import numpy as np\n",
        "# input the matrix \n",
        "mat1 = ([1,2,3], [4,5,6], [8,7,9])\n",
        "mat2 = ([17,32,4], [6,3,8], [9,10,2])\n",
        "# multiplying the matrix\n",
        "matf = np.multiply(mat1,mat2)\n",
        "matg = np.dot(mat1,mat2)\n",
        "print(matf)\n",
        "print(matg)\n",
        "# calculationg inverse of matrix\n",
        "print(np.linalg.inv(matf))"
      ],
      "metadata": {
        "colab": {
          "base_uri": "https://localhost:8080/"
        },
        "id": "FBPDbnjvIkQr",
        "outputId": "d6c406b4-5882-43e0-8ab2-3d410d4a5446"
      },
      "execution_count": 44,
      "outputs": [
        {
          "output_type": "stream",
          "name": "stdout",
          "text": [
            "[[17 64 12]\n",
            " [24 15 48]\n",
            " [72 70 18]]\n",
            "[[ 56  68  26]\n",
            " [152 203  68]\n",
            " [259 367 106]]\n",
            "[[-0.02084936 -0.00210518  0.01951338]\n",
            " [ 0.02040403 -0.00376503 -0.00356261]\n",
            " [ 0.00404842  0.02306249 -0.00864337]]\n"
          ]
        }
      ]
    },
    {
      "cell_type": "markdown",
      "source": [
        "(4) Prepare the data and create the mean median mode for the following data."
      ],
      "metadata": {
        "id": "8wVoawL_oV4g"
      }
    },
    {
      "cell_type": "code",
      "source": [
        "import pandas as pd\n",
        "\n",
        "# df = pd.read_excel(r\"/content/Book 2 (1).xlsx\")\n",
        "# df"
      ],
      "metadata": {
        "id": "5tVppgpvNpsM"
      },
      "execution_count": 45,
      "outputs": []
    },
    {
      "cell_type": "code",
      "source": [
        "df['Salary'].mode()"
      ],
      "metadata": {
        "colab": {
          "base_uri": "https://localhost:8080/"
        },
        "id": "8Y6PvXIXbLlm",
        "outputId": "16f5c8c3-0909-4fe5-d258-42ae0315d9a5"
      },
      "execution_count": 46,
      "outputs": [
        {
          "output_type": "execute_result",
          "data": {
            "text/plain": [
              "0    5000\n",
              "dtype: int64"
            ]
          },
          "metadata": {},
          "execution_count": 46
        }
      ]
    },
    {
      "cell_type": "code",
      "source": [
        "df['Salary'].median()"
      ],
      "metadata": {
        "colab": {
          "base_uri": "https://localhost:8080/"
        },
        "id": "V1AYgamTjBrV",
        "outputId": "0ef327bf-6cdb-4134-ff8c-6f1ed74044a7"
      },
      "execution_count": 47,
      "outputs": [
        {
          "output_type": "execute_result",
          "data": {
            "text/plain": [
              "14000.0"
            ]
          },
          "metadata": {},
          "execution_count": 47
        }
      ]
    },
    {
      "cell_type": "code",
      "source": [
        "df['Salary'].mean()"
      ],
      "metadata": {
        "colab": {
          "base_uri": "https://localhost:8080/"
        },
        "id": "4e7l2qkgjHWQ",
        "outputId": "d35efbd8-0148-40b4-ff22-a50ef410cec1"
      },
      "execution_count": 48,
      "outputs": [
        {
          "output_type": "execute_result",
          "data": {
            "text/plain": [
              "14200.0"
            ]
          },
          "metadata": {},
          "execution_count": 48
        }
      ]
    },
    {
      "cell_type": "markdown",
      "source": [
        "(5) How to set a single Main Title for All the Subplots in Matplotlib."
      ],
      "metadata": {
        "id": "gRnvl5RronEa"
      }
    },
    {
      "cell_type": "markdown",
      "source": [
        " We use matplotlib. pyplot. suptitle() method to set main title common to all subplots in Matplotlib."
      ],
      "metadata": {
        "id": "PxXg2HXRG5Qa"
      }
    },
    {
      "cell_type": "code",
      "source": [
        "# fig, (ax1, ax2) = plt.subplots(1, 2, figsize=(12, 5))\n",
        "# x = df['Position']\n",
        "# x1 = df['Name']\n",
        "# y = df['Salary']\n",
        "# labels = [\"Data1\", \"Data2\"]\n",
        "# fig.suptitle(' Data of postion of people and their salaries ', fontsize=30)\n",
        "# l1 = ax1.plot(x, y, 'o-', color='g')\n",
        "# l2 = ax2.plot(x1, y, 'o-')\n",
        "\n",
        "# fig.legend([l1, l2], labels=labels,\n",
        "#            loc=\"upper right\")\n",
        "# plt.subplots_adjust(right=0.9)\n",
        "# plt.show()\n",
        "\n",
        "\n"
      ],
      "metadata": {
        "id": "fa7b2Uq_HDWb"
      },
      "execution_count": 49,
      "outputs": []
    },
    {
      "cell_type": "markdown",
      "source": [
        "Calculate Standard Deviation using python programming using Python programming\n"
      ],
      "metadata": {
        "id": "_WcMjIUkOgu2"
      }
    },
    {
      "cell_type": "code",
      "source": [
        "df\n",
        "\n",
        "arr = df['Salary'].to_numpy()\n",
        "print('Standard deviation of the dataset is: ', np.std(arr, dtype= np.float32))\n",
        "print('Standard deviation of the dataset is: ', np.std(arr, dtype = np.float64))\n"
      ],
      "metadata": {
        "colab": {
          "base_uri": "https://localhost:8080/"
        },
        "id": "C92KHr0ZPDMJ",
        "outputId": "86abe881-1b23-43f6-9cb4-01de5dc48edd"
      },
      "execution_count": 50,
      "outputs": [
        {
          "output_type": "stream",
          "name": "stdout",
          "text": [
            "Standard deviation of the dataset is:  10351.812\n",
            "Standard deviation of the dataset is:  10351.811435686026\n"
          ]
        }
      ]
    },
    {
      "cell_type": "markdown",
      "source": [
        "How to calculate range of the following dataset"
      ],
      "metadata": {
        "id": "tdhd32KRRzqc"
      }
    },
    {
      "cell_type": "code",
      "source": [
        "set = {7,89,42,5,67,89,456,789, 56}\n",
        "print(\"Range is\", max(set) - min(set))"
      ],
      "metadata": {
        "colab": {
          "base_uri": "https://localhost:8080/"
        },
        "id": "uBtxiY7DRy_N",
        "outputId": "38237a18-f771-4988-f822-f6820a7ff6ee"
      },
      "execution_count": 51,
      "outputs": [
        {
          "output_type": "stream",
          "name": "stdout",
          "text": [
            "Range is 784\n"
          ]
        }
      ]
    },
    {
      "cell_type": "markdown",
      "source": [
        "HISTOGRAM\n"
      ],
      "metadata": {
        "id": "pPJ1aOH_Z8Hw"
      }
    },
    {
      "cell_type": "code",
      "source": [
        "import numpy as np\n",
        "import pandas as pd\n",
        "import matplotlib.pyplot as plt\n",
        "\n",
        "f = df['Salary']\n",
        "g = df['Position']\n",
        "hist = plt.xlabel('Position', fontsize = 15)\n",
        "hist = plt.ylabel('Salary', fontsize = 16)\n",
        "plt.hist(g)\n",
        "\n",
        "plt.show()"
      ],
      "metadata": {
        "colab": {
          "base_uri": "https://localhost:8080/",
          "height": 284
        },
        "id": "84uJ13EIaAJA",
        "outputId": "c62c654b-4d80-4944-c2c7-f17a41b233c4"
      },
      "execution_count": 52,
      "outputs": [
        {
          "output_type": "display_data",
          "data": {
            "text/plain": [
              "<Figure size 432x288 with 1 Axes>"
            ],
            "image/png": "[encoded data removed]"
          },
          "metadata": {
            "needs_background": "light"
          }
        }
      ]
    },
    {
      "cell_type": "markdown",
      "source": [
        "Linear regression\n"
      ],
      "metadata": {
        "id": "5Hx0lnkVd_G1"
      }
    },
    {
      "cell_type": "code",
      "source": [
        "df.head()"
      ],
      "metadata": {
        "colab": {
          "base_uri": "https://localhost:8080/",
          "height": 206
        },
        "id": "YW2KmPRbd-mf",
        "outputId": "3575525a-9d37-4f7a-9bec-5e262160bdef"
      },
      "execution_count": 53,
      "outputs": [
        {
          "output_type": "execute_result",
          "data": {
            "text/plain": [
              "      Name  Position  Salary\n",
              "0  Ishan     Manager   20000\n",
              "1  Mayank   Employee    5000\n",
              "2    Yash       Head   40000\n",
              "3  Jayant   Employee    5000\n",
              "4  Ishaan     Senior   14000"
            ],
            "text/html": [
              "\n",
              "  <div id=\"df-88be12a4-ef7e-41f7-844a-61dbf4269eed\">\n",
              "    <div class=\"colab-df-container\">\n",
              "      <div>\n",
              "<style scoped>\n",
              "    .dataframe tbody tr th:only-of-type {\n",
              "        vertical-align: middle;\n",
              "    }\n",
              "\n",
              "    .dataframe tbody tr th {\n",
              "        vertical-align: top;\n",
              "    }\n",
              "\n",
              "    .dataframe thead th {\n",
              "        text-align: right;\n",
              "    }\n",
              "</style>\n",
              "<table border=\"1\" class=\"dataframe\">\n",
              "  <thead>\n",
              "    <tr style=\"text-align: right;\">\n",
              "      <th></th>\n",
              "      <th>Name</th>\n",
              "      <th>Position</th>\n",
              "      <th>Salary</th>\n",
              "    </tr>\n",
              "  </thead>\n",
              "  <tbody>\n",
              "    <tr>\n",
              "      <th>0</th>\n",
              "      <td>Ishan</td>\n",
              "      <td>Manager</td>\n",
              "      <td>20000</td>\n",
              "    </tr>\n",
              "    <tr>\n",
              "      <th>1</th>\n",
              "      <td>Mayank</td>\n",
              "      <td>Employee</td>\n",
              "      <td>5000</td>\n",
              "    </tr>\n",
              "    <tr>\n",
              "      <th>2</th>\n",
              "      <td>Yash</td>\n",
              "      <td>Head</td>\n",
              "      <td>40000</td>\n",
              "    </tr>\n",
              "    <tr>\n",
              "      <th>3</th>\n",
              "      <td>Jayant</td>\n",
              "      <td>Employee</td>\n",
              "      <td>5000</td>\n",
              "    </tr>\n",
              "    <tr>\n",
              "      <th>4</th>\n",
              "      <td>Ishaan</td>\n",
              "      <td>Senior</td>\n",
              "      <td>14000</td>\n",
              "    </tr>\n",
              "  </tbody>\n",
              "</table>\n",
              "</div>\n",
              "      <button class=\"colab-df-convert\" onclick=\"convertToInteractive('df-88be12a4-ef7e-41f7-844a-61dbf4269eed')\"\n",
              "              title=\"Convert this dataframe to an interactive table.\"\n",
              "              style=\"display:none;\">\n",
              "        \n",
              "  <svg xmlns=\"http://www.w3.org/2000/svg\" height=\"24px\"viewBox=\"0 0 24 24\"\n",
              "       width=\"24px\">\n",
              "    <path d=\"M0 0h24v24H0V0z\" fill=\"none\"/>\n",
              "    <path d=\"M18.56 5.44l.94 2.06.94-2.06 2.06-.94-2.06-.94-.94-2.06-.94 2.06-2.06.94zm-11 1L8.5 8.5l.94-2.06 2.06-.94-2.06-.94L8.5 2.5l-.94 2.06-2.06.94zm10 10l.94 2.06.94-2.06 2.06-.94-2.06-.94-.94-2.06-.94 2.06-2.06.94z\"/><path d=\"M17.41 7.96l-1.37-1.37c-.4-.4-.92-.59-1.43-.59-.52 0-1.04.2-1.43.59L10.3 9.45l-7.72 7.72c-.78.78-.78 2.05 0 2.83L4 21.41c.39.39.9.59 1.41.59.51 0 1.02-.2 1.41-.59l7.78-7.78 2.81-2.81c.8-.78.8-2.07 0-2.86zM5.41 20L4 18.59l7.72-7.72 1.47 1.35L5.41 20z\"/>\n",
              "  </svg>\n",
              "      </button>\n",
              "      \n",
              "  <style>\n",
              "    .colab-df-container {\n",
              "      display:flex;\n",
              "      flex-wrap:wrap;\n",
              "      gap: 12px;\n",
              "    }\n",
              "\n",
              "    .colab-df-convert {\n",
              "      background-color: #E8F0FE;\n",
              "      border: none;\n",
              "      border-radius: 50%;\n",
              "      cursor: pointer;\n",
              "      display: none;\n",
              "      fill: #1967D2;\n",
              "      height: 32px;\n",
              "      padding: 0 0 0 0;\n",
              "      width: 32px;\n",
              "    }\n",
              "\n",
              "    .colab-df-convert:hover {\n",
              "      background-color: #E2EBFA;\n",
              "      box-shadow: 0px 1px 2px rgba(60, 64, 67, 0.3), 0px 1px 3px 1px rgba(60, 64, 67, 0.15);\n",
              "      fill: #174EA6;\n",
              "    }\n",
              "\n",
              "    [theme=dark] .colab-df-convert {\n",
              "      background-color: #3B4455;\n",
              "      fill: #D2E3FC;\n",
              "    }\n",
              "\n",
              "    [theme=dark] .colab-df-convert:hover {\n",
              "      background-color: #434B5C;\n",
              "      box-shadow: 0px 1px 3px 1px rgba(0, 0, 0, 0.15);\n",
              "      filter: drop-shadow(0px 1px 2px rgba(0, 0, 0, 0.3));\n",
              "      fill: #FFFFFF;\n",
              "    }\n",
              "  </style>\n",
              "\n",
              "      <script>\n",
              "        const buttonEl =\n",
              "          document.querySelector('#df-88be12a4-ef7e-41f7-844a-61dbf4269eed button.colab-df-convert');\n",
              "        buttonEl.style.display =\n",
              "          google.colab.kernel.accessAllowed ? 'block' : 'none';\n",
              "\n",
              "        async function convertToInteractive(key) {\n",
              "          const element = document.querySelector('#df-88be12a4-ef7e-41f7-844a-61dbf4269eed');\n",
              "          const dataTable =\n",
              "            await google.colab.kernel.invokeFunction('convertToInteractive',\n",
              "                                                     [key], {});\n",
              "          if (!dataTable) return;\n",
              "\n",
              "          const docLinkHtml = 'Like what you see? Visit the ' +\n",
              "            '<a target=\"_blank\" href=https://colab.research.google.com/notebooks/data_table.ipynb>data table notebook</a>'\n",
              "            + ' to learn more about interactive tables.';\n",
              "          element.innerHTML = '';\n",
              "          dataTable['output_type'] = 'display_data';\n",
              "          await google.colab.output.renderOutput(dataTable, element);\n",
              "          const docLink = document.createElement('div');\n",
              "          docLink.innerHTML = docLinkHtml;\n",
              "          element.appendChild(docLink);\n",
              "        }\n",
              "      </script>\n",
              "    </div>\n",
              "  </div>\n",
              "  "
            ]
          },
          "metadata": {},
          "execution_count": 53
        }
      ]
    },
    {
      "cell_type": "markdown",
      "source": [
        "Linear Regression"
      ],
      "metadata": {
        "id": "1qy-MFI-ROrI"
      }
    },
    {
      "cell_type": "code",
      "source": [
        "import pandas as pd\n",
        "df1 = pd.read_excel(r\"/content/DataSetN.xlsx\")\n",
        "df1\n",
        "\n",
        "from sklearn.linear_model import LinearRegression\n",
        "from sklearn.model_selection import train_test_split\n",
        "\n",
        "x2 = df1.iloc[:,:1].values\n",
        "y2 = df1.iloc[:,3].values\n",
        "X_train, X_test, y_train, y_test = train_test_split(x2,y2,test_size=1/3,random_state=0)\n",
        "regressor = LinearRegression()\n",
        "regressor.fit(X_train,y_train) #actually produces the linear eqn for the data\n",
        "y_pred = regressor.predict(X_test) \n",
        "y_pred\n",
        "\n",
        "\n",
        "#plot for the TRAIN\n",
        " \n",
        "plt.scatter(X_train, y_train, color='red') # plotting the observation line\n",
        " \n",
        "plt.plot(X_train, regressor.predict(X_train), color='blue') # plotting the regression line\n",
        " \n",
        "plt.title(\"Marks vs Roll no (Training set)\") # stating the title of the graph\n",
        " \n",
        "plt.xlabel(\"Roll no\") # adding the name of x-axis\n",
        "plt.ylabel(\"Marks\") # adding the name of y-axis\n",
        "plt.show() # specifies end of graph"
      ],
      "metadata": {
        "id": "Whjog7saRPfL",
        "colab": {
          "base_uri": "https://localhost:8080/",
          "height": 295
        },
        "outputId": "1a932a9f-3675-421d-f06d-f3ba62be1d7c"
      },
      "execution_count": 54,
      "outputs": [
        {
          "output_type": "display_data",
          "data": {
            "text/plain": [
              "<Figure size 432x288 with 1 Axes>"
            ],
            "image/png": "[encoded data removed]"
          },
          "metadata": {
            "needs_background": "light"
          }
        }
      ]
    },
    {
      "cell_type": "markdown",
      "source": [
        "Develop a code where you can show the use of break and comtinue statement"
      ],
      "metadata": {
        "id": "t0Shs8zzqiw_"
      }
    },
    {
      "cell_type": "code",
      "source": [
        "flag = 0\n",
        "i_1 = \"Bateman Patrik\"\n",
        "for i in i_1:\n",
        "  if i == \"i\":\n",
        "    print(i)\n",
        "    break\n",
        "  else:\n",
        "    flag += 1\n",
        "    sum = flag + flag\n",
        "    continue\n",
        "print(sum)\n"
      ],
      "metadata": {
        "colab": {
          "base_uri": "https://localhost:8080/"
        },
        "id": "pbtPhJMWq5Q0",
        "outputId": "8ce8608f-6cfd-48a5-bf54-c25e2ffa6623"
      },
      "execution_count": 55,
      "outputs": [
        {
          "output_type": "stream",
          "name": "stdout",
          "text": [
            "i\n",
            "24\n"
          ]
        }
      ]
    },
    {
      "cell_type": "markdown",
      "source": [
        "\n",
        "Question No2"
      ],
      "metadata": {
        "id": "oX8W0DPIq8_Z"
      }
    },
    {
      "cell_type": "code",
      "source": [
        "1\n",
        "j1 = int(input(\"Enter the no. of elements you want in your list: \"))\n",
        "b=[]\n",
        "for i in range(0, j1):\n",
        "  print(\"Enter the number list at index \", i)\n",
        "  item = (input())\n",
        "  b.append(item)\n",
        "print(b)\n",
        "print(b[-1])"
      ],
      "metadata": {
        "colab": {
          "base_uri": "https://localhost:8080/"
        },
        "id": "0QHqYdsTq9on",
        "outputId": "b9dfd119-1f20-4065-dc04-b66c8b5df94c"
      },
      "execution_count": 56,
      "outputs": [
        {
          "output_type": "stream",
          "name": "stdout",
          "text": [
            "Enter the no. of elements you want in your list: 3\n",
            "Enter the number list at index  0\n",
            "a\n",
            "Enter the number list at index  1\n",
            "s\n",
            "d\n",
            "Enter the number list at index  2\n",
            "['a', 's', 'd']\n",
            "d\n"
          ]
        }
      ]
    },
    {
      "cell_type": "markdown",
      "source": [
        "Regression"
      ],
      "metadata": {
        "id": "JdwYw_toq-Go"
      }
    },
    {
      "cell_type": "code",
      "source": [
        "import pandas as pd\n",
        "import numpy as np\n",
        "import matplotlib.pyplot as plt\n",
        "\n",
        "import numpy as np\n",
        "from sklearn.linear_model import LinearRegression\n",
        "df2 = pd.read_csv(r\"/content/Linear Regression Height and Weight.csv\")\n",
        "df2\n",
        "\n",
        "x3 = np.array(df2['Waist_cm']).reshape(-1,1)\n",
        "y3=np.array(df2['Weiht_kg'])\n",
        "regressor = LinearRegression()\n",
        "regressor.fit(x3, y3)\n",
        "y_pred1 = regressor.predict(x3)\n",
        "plt.scatter(x3,y3, color=\"red\")\n",
        "plt.plot(x3, regressor.predict(x3), color=\"blue\")\n",
        "plt.xlabel(\"Waist(cm)\")\n",
        "plt.ylabel(\"Weight(kg)\")\n",
        "f1 = np.std(df2['Weiht_kg'])\n",
        "print(f1)"
      ],
      "metadata": {
        "colab": {
          "base_uri": "https://localhost:8080/",
          "height": 297
        },
        "id": "XtNldxbkq-hM",
        "outputId": "646d6cbd-975d-4b77-b64e-e27b27b59c81"
      },
      "execution_count": 57,
      "outputs": [
        {
          "output_type": "stream",
          "name": "stdout",
          "text": [
            "13.21009714826756\n"
          ]
        },
        {
          "output_type": "display_data",
          "data": {
            "text/plain": [
              "<Figure size 432x288 with 1 Axes>"
            ],
            "image/png": "[encoded data removed]"
          },
          "metadata": {
            "needs_background": "light"
          }
        }
      ]
    },
    {
      "cell_type": "markdown",
      "source": [
        "Linear Regression"
      ],
      "metadata": {
        "id": "Mgh18NCVlzh-"
      }
    },
    {
      "cell_type": "code",
      "source": [
        "import pandas as pd\n",
        "import numpy as np\n",
        "import matplotlib.pyplot as plt\n",
        "\n",
        "import numpy as np\n",
        "from sklearn.linear_model import LinearRegression\n",
        "df3 = pd.read_excel(r\"/content/country_wise_latest (1).xlsx\")\n",
        "df3\n",
        "\n",
        "x4 = np.array(df3['Total Population']).reshape(-1,1)\n",
        "y4=np.array(df3['Total cases'])\n",
        "regressor = LinearRegression()\n",
        "regressor.fit(x4, y4)\n",
        "y_pred2 = regressor.predict(x4)\n",
        "plt.scatter(x4,y4, color=\"red\")\n",
        "plt.plot(x4, regressor.predict(x4), color=\"blue\")\n",
        "plt.show()"
      ],
      "metadata": {
        "colab": {
          "base_uri": "https://localhost:8080/",
          "height": 289
        },
        "id": "lmUDjBQsmEzk",
        "outputId": "ba82d2d8-2bbd-4a2b-be3e-cb4f759d726a"
      },
      "execution_count": 60,
      "outputs": [
        {
          "output_type": "display_data",
          "data": {
            "text/plain": [
              "<Figure size 432x288 with 1 Axes>"
            ],
            "image/png": "[encoded data removed]"
          },
          "metadata": {
            "needs_background": "light"
          }
        }
      ]
    },
    {
      "cell_type": "markdown",
      "source": [
        "what is clustering? give an example"
      ],
      "metadata": {
        "id": "64NAK0sPyTzq"
      }
    },
    {
      "cell_type": "markdown",
      "source": [
        "ANS:- \n",
        "> Clustering is the task of dividing the population or data points into a number of groups such that data points in the same groups are more similar to other data points in the same group and dissimilar to the data points in other groups. It is basically a collection of objects on the basis of similarity and dissimilarity between them. \n",
        "\n",
        "Example\n",
        "\n",
        "> Applications of Clustering in different fields  \n",
        "\n",
        "Marketing: It can be used to characterize & discover customer segments for marketing purposes.\n",
        "\n",
        "Biology: It can be used for classification among different species of plants and animals.\n",
        "\n",
        "Libraries: It is used in clustering different books on the basis of topics and information.\n",
        "\n",
        "Insurance: It is used to acknowledge the customers, their policies and identifying the frauds.\n",
        "\n"
      ],
      "metadata": {
        "id": "aLP8ZcvBy43m"
      }
    },
    {
      "cell_type": "markdown",
      "source": [
        "Impliment k-means clustering\n"
      ],
      "metadata": {
        "id": "EvxZUl9FmBUA"
      }
    },
    {
      "cell_type": "code",
      "source": [
        "import numpy as np\n",
        "import matplotlib.pyplot as plt\n",
        "from sklearn.cluster import KMeans\n",
        "\n",
        "j = 2 * np.random.rand(40,2)\n",
        "f = -1 * np.random.rand(20,2)\n",
        "# print(j)\n",
        "# print(f)\n",
        "j[20:40, :] = f\n",
        "plt.scatter(j[ :, 0], j[ :, 1], s = 50, color = \"blue\")\n",
        "plt.show()\n",
        "# print(j.shape)\n",
        "# print(f.shape)\n",
        "Kmean = KMeans(n_clusters=2)\n",
        "pre = Kmean.fit_predict(j)\n",
        "cluster_c = Kmean.cluster_centers_\n",
        "print(cluster_c)\n",
        "# plt.scatter(j[ : , 0], j[ : , 1], s =50, color=\"blue\")\n"
      ],
      "metadata": {
        "colab": {
          "base_uri": "https://localhost:8080/",
          "height": 302
        },
        "id": "PM6iXWx6mLS7",
        "outputId": "02128f70-30ec-4f19-a22a-0eaf28e8f4be"
      },
      "execution_count": 61,
      "outputs": [
        {
          "output_type": "display_data",
          "data": {
            "text/plain": [
              "<Figure size 432x288 with 1 Axes>"
            ],
            "image/png": "[encoded data removed]"
          },
          "metadata": {
            "needs_background": "light"
          }
        },
        {
          "output_type": "stream",
          "name": "stdout",
          "text": [
            "[[-0.49726247 -0.50697849]\n",
            " [ 1.14866892  0.90472096]]\n"
          ]
        }
      ]
    },
    {
      "cell_type": "code",
      "source": [
        "plt.scatter(cluster_c[0][0], cluster_c[0][1], marker= \"*\", s = 200)\n",
        "plt.scatter(cluster_c[1][0], cluster_c[1][1], marker= \"*\", s = 200)\n",
        "\n",
        "plt.scatter(j[pre == 0,0], j[pre == 0,1], s = 50, color = \"blue\")\n",
        "plt.scatter(j[pre == 1,0], j[pre == 1,1], s = 50, color= \"red\")\n",
        "plt.show()\n"
      ],
      "metadata": {
        "colab": {
          "base_uri": "https://localhost:8080/",
          "height": 265
        },
        "id": "2L3g5DqdyiZJ",
        "outputId": "26f46829-465d-4fbd-d412-e68077572db0"
      },
      "execution_count": 62,
      "outputs": [
        {
          "output_type": "display_data",
          "data": {
            "text/plain": [
              "<Figure size 432x288 with 1 Axes>"
            ],
            "image/png": "[encoded data removed]"
          },
          "metadata": {
            "needs_background": "light"
          }
        }
      ]
    },
    {
      "cell_type": "markdown",
      "source": [
        "Decision tree"
      ],
      "metadata": {
        "id": "207td5yR8La2"
      }
    },
    {
      "cell_type": "code",
      "source": [
        "import pandas as pd\n",
        "\n",
        "df4 = pd.read_excel(r\"/content/Book 1.xlsx\")\n",
        "df4\n",
        "\n",
        "input_1 = df4.drop('Percentile above 90%', axis=\"columns\")\n",
        "target = df4[\"Percentile above 90%\"]"
      ],
      "metadata": {
        "id": "gaUdljhmA90I"
      },
      "execution_count": 63,
      "outputs": []
    },
    {
      "cell_type": "code",
      "source": [
        "df4"
      ],
      "metadata": {
        "colab": {
          "base_uri": "https://localhost:8080/",
          "height": 363
        },
        "id": "OkwOvCQiz5Tm",
        "outputId": "b7428eed-8fd9-43f3-cb70-05660adba5ef"
      },
      "execution_count": 64,
      "outputs": [
        {
          "output_type": "execute_result",
          "data": {
            "text/plain": [
              "   Coloumn       College Branch  Percentile above 90%\n",
              "0        1          VJTI     CS                     0\n",
              "1        2    DJ Sanghvi   MECH                     0\n",
              "2        3          TCET     IT                     1\n",
              "3        4      Thadomal     CS                     0\n",
              "4        5  Father agnel   MECH                     0\n",
              "5        6       Atharva     CS                     0\n",
              "6        7          Coep  CIVIL                     1\n",
              "7        8   st. francis   MECH                     0\n",
              "8        9          SPIT     IT                     1\n",
              "9       10          SPEC     CS                     1"
            ],
            "text/html": [
              "\n",
              "  <div id=\"df-58e8bfcc-21dd-4e5e-aeb8-0e5365da171b\">\n",
              "    <div class=\"colab-df-container\">\n",
              "      <div>\n",
              "<style scoped>\n",
              "    .dataframe tbody tr th:only-of-type {\n",
              "        vertical-align: middle;\n",
              "    }\n",
              "\n",
              "    .dataframe tbody tr th {\n",
              "        vertical-align: top;\n",
              "    }\n",
              "\n",
              "    .dataframe thead th {\n",
              "        text-align: right;\n",
              "    }\n",
              "</style>\n",
              "<table border=\"1\" class=\"dataframe\">\n",
              "  <thead>\n",
              "    <tr style=\"text-align: right;\">\n",
              "      <th></th>\n",
              "      <th>Coloumn</th>\n",
              "      <th>College</th>\n",
              "      <th>Branch</th>\n",
              "      <th>Percentile above 90%</th>\n",
              "    </tr>\n",
              "  </thead>\n",
              "  <tbody>\n",
              "    <tr>\n",
              "      <th>0</th>\n",
              "      <td>1</td>\n",
              "      <td>VJTI</td>\n",
              "      <td>CS</td>\n",
              "      <td>0</td>\n",
              "    </tr>\n",
              "    <tr>\n",
              "      <th>1</th>\n",
              "      <td>2</td>\n",
              "      <td>DJ Sanghvi</td>\n",
              "      <td>MECH</td>\n",
              "      <td>0</td>\n",
              "    </tr>\n",
              "    <tr>\n",
              "      <th>2</th>\n",
              "      <td>3</td>\n",
              "      <td>TCET</td>\n",
              "      <td>IT</td>\n",
              "      <td>1</td>\n",
              "    </tr>\n",
              "    <tr>\n",
              "      <th>3</th>\n",
              "      <td>4</td>\n",
              "      <td>Thadomal</td>\n",
              "      <td>CS</td>\n",
              "      <td>0</td>\n",
              "    </tr>\n",
              "    <tr>\n",
              "      <th>4</th>\n",
              "      <td>5</td>\n",
              "      <td>Father agnel</td>\n",
              "      <td>MECH</td>\n",
              "      <td>0</td>\n",
              "    </tr>\n",
              "    <tr>\n",
              "      <th>5</th>\n",
              "      <td>6</td>\n",
              "      <td>Atharva</td>\n",
              "      <td>CS</td>\n",
              "      <td>0</td>\n",
              "    </tr>\n",
              "    <tr>\n",
              "      <th>6</th>\n",
              "      <td>7</td>\n",
              "      <td>Coep</td>\n",
              "      <td>CIVIL</td>\n",
              "      <td>1</td>\n",
              "    </tr>\n",
              "    <tr>\n",
              "      <th>7</th>\n",
              "      <td>8</td>\n",
              "      <td>st. francis</td>\n",
              "      <td>MECH</td>\n",
              "      <td>0</td>\n",
              "    </tr>\n",
              "    <tr>\n",
              "      <th>8</th>\n",
              "      <td>9</td>\n",
              "      <td>SPIT</td>\n",
              "      <td>IT</td>\n",
              "      <td>1</td>\n",
              "    </tr>\n",
              "    <tr>\n",
              "      <th>9</th>\n",
              "      <td>10</td>\n",
              "      <td>SPEC</td>\n",
              "      <td>CS</td>\n",
              "      <td>1</td>\n",
              "    </tr>\n",
              "  </tbody>\n",
              "</table>\n",
              "</div>\n",
              "      <button class=\"colab-df-convert\" onclick=\"convertToInteractive('df-58e8bfcc-21dd-4e5e-aeb8-0e5365da171b')\"\n",
              "              title=\"Convert this dataframe to an interactive table.\"\n",
              "              style=\"display:none;\">\n",
              "        \n",
              "  <svg xmlns=\"http://www.w3.org/2000/svg\" height=\"24px\"viewBox=\"0 0 24 24\"\n",
              "       width=\"24px\">\n",
              "    <path d=\"M0 0h24v24H0V0z\" fill=\"none\"/>\n",
              "    <path d=\"M18.56 5.44l.94 2.06.94-2.06 2.06-.94-2.06-.94-.94-2.06-.94 2.06-2.06.94zm-11 1L8.5 8.5l.94-2.06 2.06-.94-2.06-.94L8.5 2.5l-.94 2.06-2.06.94zm10 10l.94 2.06.94-2.06 2.06-.94-2.06-.94-.94-2.06-.94 2.06-2.06.94z\"/><path d=\"M17.41 7.96l-1.37-1.37c-.4-.4-.92-.59-1.43-.59-.52 0-1.04.2-1.43.59L10.3 9.45l-7.72 7.72c-.78.78-.78 2.05 0 2.83L4 21.41c.39.39.9.59 1.41.59.51 0 1.02-.2 1.41-.59l7.78-7.78 2.81-2.81c.8-.78.8-2.07 0-2.86zM5.41 20L4 18.59l7.72-7.72 1.47 1.35L5.41 20z\"/>\n",
              "  </svg>\n",
              "      </button>\n",
              "      \n",
              "  <style>\n",
              "    .colab-df-container {\n",
              "      display:flex;\n",
              "      flex-wrap:wrap;\n",
              "      gap: 12px;\n",
              "    }\n",
              "\n",
              "    .colab-df-convert {\n",
              "      background-color: #E8F0FE;\n",
              "      border: none;\n",
              "      border-radius: 50%;\n",
              "      cursor: pointer;\n",
              "      display: none;\n",
              "      fill: #1967D2;\n",
              "      height: 32px;\n",
              "      padding: 0 0 0 0;\n",
              "      width: 32px;\n",
              "    }\n",
              "\n",
              "    .colab-df-convert:hover {\n",
              "      background-color: #E2EBFA;\n",
              "      box-shadow: 0px 1px 2px rgba(60, 64, 67, 0.3), 0px 1px 3px 1px rgba(60, 64, 67, 0.15);\n",
              "      fill: #174EA6;\n",
              "    }\n",
              "\n",
              "    [theme=dark] .colab-df-convert {\n",
              "      background-color: #3B4455;\n",
              "      fill: #D2E3FC;\n",
              "    }\n",
              "\n",
              "    [theme=dark] .colab-df-convert:hover {\n",
              "      background-color: #434B5C;\n",
              "      box-shadow: 0px 1px 3px 1px rgba(0, 0, 0, 0.15);\n",
              "      filter: drop-shadow(0px 1px 2px rgba(0, 0, 0, 0.3));\n",
              "      fill: #FFFFFF;\n",
              "    }\n",
              "  </style>\n",
              "\n",
              "      <script>\n",
              "        const buttonEl =\n",
              "          document.querySelector('#df-58e8bfcc-21dd-4e5e-aeb8-0e5365da171b button.colab-df-convert');\n",
              "        buttonEl.style.display =\n",
              "          google.colab.kernel.accessAllowed ? 'block' : 'none';\n",
              "\n",
              "        async function convertToInteractive(key) {\n",
              "          const element = document.querySelector('#df-58e8bfcc-21dd-4e5e-aeb8-0e5365da171b');\n",
              "          const dataTable =\n",
              "            await google.colab.kernel.invokeFunction('convertToInteractive',\n",
              "                                                     [key], {});\n",
              "          if (!dataTable) return;\n",
              "\n",
              "          const docLinkHtml = 'Like what you see? Visit the ' +\n",
              "            '<a target=\"_blank\" href=https://colab.research.google.com/notebooks/data_table.ipynb>data table notebook</a>'\n",
              "            + ' to learn more about interactive tables.';\n",
              "          element.innerHTML = '';\n",
              "          dataTable['output_type'] = 'display_data';\n",
              "          await google.colab.output.renderOutput(dataTable, element);\n",
              "          const docLink = document.createElement('div');\n",
              "          docLink.innerHTML = docLinkHtml;\n",
              "          element.appendChild(docLink);\n",
              "        }\n",
              "      </script>\n",
              "    </div>\n",
              "  </div>\n",
              "  "
            ]
          },
          "metadata": {},
          "execution_count": 64
        }
      ]
    },
    {
      "cell_type": "code",
      "source": [
        "from sklearn.preprocessing import LabelEncoder\n",
        "le_College = LabelEncoder()\n",
        "le_Branch = LabelEncoder()\n",
        "input_1['college_n'] = le_College.fit_transform(input_1['College'].values)\n",
        "input_1['branch_n'] = le_College.fit_transform(input_1['Branch'].values)\n"
      ],
      "metadata": {
        "id": "6eAegMtCzgdX"
      },
      "execution_count": 65,
      "outputs": []
    },
    {
      "cell_type": "code",
      "source": [
        "input_1.head()"
      ],
      "metadata": {
        "colab": {
          "base_uri": "https://localhost:8080/",
          "height": 206
        },
        "id": "wWgXjnO80tyO",
        "outputId": "e8f09b72-300f-423e-a58f-36eeac521a34"
      },
      "execution_count": 66,
      "outputs": [
        {
          "output_type": "execute_result",
          "data": {
            "text/plain": [
              "   Coloumn       College Branch  college_n  branch_n\n",
              "0        1          VJTI     CS          8         1\n",
              "1        2    DJ Sanghvi   MECH          2         3\n",
              "2        3          TCET     IT          6         2\n",
              "3        4      Thadomal     CS          7         1\n",
              "4        5  Father agnel   MECH          3         3"
            ],
            "text/html": [
              "\n",
              "  <div id=\"df-7b97abb0-db2b-48af-9057-878372d1f4f1\">\n",
              "    <div class=\"colab-df-container\">\n",
              "      <div>\n",
              "<style scoped>\n",
              "    .dataframe tbody tr th:only-of-type {\n",
              "        vertical-align: middle;\n",
              "    }\n",
              "\n",
              "    .dataframe tbody tr th {\n",
              "        vertical-align: top;\n",
              "    }\n",
              "\n",
              "    .dataframe thead th {\n",
              "        text-align: right;\n",
              "    }\n",
              "</style>\n",
              "<table border=\"1\" class=\"dataframe\">\n",
              "  <thead>\n",
              "    <tr style=\"text-align: right;\">\n",
              "      <th></th>\n",
              "      <th>Coloumn</th>\n",
              "      <th>College</th>\n",
              "      <th>Branch</th>\n",
              "      <th>college_n</th>\n",
              "      <th>branch_n</th>\n",
              "    </tr>\n",
              "  </thead>\n",
              "  <tbody>\n",
              "    <tr>\n",
              "      <th>0</th>\n",
              "      <td>1</td>\n",
              "      <td>VJTI</td>\n",
              "      <td>CS</td>\n",
              "      <td>8</td>\n",
              "      <td>1</td>\n",
              "    </tr>\n",
              "    <tr>\n",
              "      <th>1</th>\n",
              "      <td>2</td>\n",
              "      <td>DJ Sanghvi</td>\n",
              "      <td>MECH</td>\n",
              "      <td>2</td>\n",
              "      <td>3</td>\n",
              "    </tr>\n",
              "    <tr>\n",
              "      <th>2</th>\n",
              "      <td>3</td>\n",
              "      <td>TCET</td>\n",
              "      <td>IT</td>\n",
              "      <td>6</td>\n",
              "      <td>2</td>\n",
              "    </tr>\n",
              "    <tr>\n",
              "      <th>3</th>\n",
              "      <td>4</td>\n",
              "      <td>Thadomal</td>\n",
              "      <td>CS</td>\n",
              "      <td>7</td>\n",
              "      <td>1</td>\n",
              "    </tr>\n",
              "    <tr>\n",
              "      <th>4</th>\n",
              "      <td>5</td>\n",
              "      <td>Father agnel</td>\n",
              "      <td>MECH</td>\n",
              "      <td>3</td>\n",
              "      <td>3</td>\n",
              "    </tr>\n",
              "  </tbody>\n",
              "</table>\n",
              "</div>\n",
              "      <button class=\"colab-df-convert\" onclick=\"convertToInteractive('df-7b97abb0-db2b-48af-9057-878372d1f4f1')\"\n",
              "              title=\"Convert this dataframe to an interactive table.\"\n",
              "              style=\"display:none;\">\n",
              "        \n",
              "  <svg xmlns=\"http://www.w3.org/2000/svg\" height=\"24px\"viewBox=\"0 0 24 24\"\n",
              "       width=\"24px\">\n",
              "    <path d=\"M0 0h24v24H0V0z\" fill=\"none\"/>\n",
              "    <path d=\"M18.56 5.44l.94 2.06.94-2.06 2.06-.94-2.06-.94-.94-2.06-.94 2.06-2.06.94zm-11 1L8.5 8.5l.94-2.06 2.06-.94-2.06-.94L8.5 2.5l-.94 2.06-2.06.94zm10 10l.94 2.06.94-2.06 2.06-.94-2.06-.94-.94-2.06-.94 2.06-2.06.94z\"/><path d=\"M17.41 7.96l-1.37-1.37c-.4-.4-.92-.59-1.43-.59-.52 0-1.04.2-1.43.59L10.3 9.45l-7.72 7.72c-.78.78-.78 2.05 0 2.83L4 21.41c.39.39.9.59 1.41.59.51 0 1.02-.2 1.41-.59l7.78-7.78 2.81-2.81c.8-.78.8-2.07 0-2.86zM5.41 20L4 18.59l7.72-7.72 1.47 1.35L5.41 20z\"/>\n",
              "  </svg>\n",
              "      </button>\n",
              "      \n",
              "  <style>\n",
              "    .colab-df-container {\n",
              "      display:flex;\n",
              "      flex-wrap:wrap;\n",
              "      gap: 12px;\n",
              "    }\n",
              "\n",
              "    .colab-df-convert {\n",
              "      background-color: #E8F0FE;\n",
              "      border: none;\n",
              "      border-radius: 50%;\n",
              "      cursor: pointer;\n",
              "      display: none;\n",
              "      fill: #1967D2;\n",
              "      height: 32px;\n",
              "      padding: 0 0 0 0;\n",
              "      width: 32px;\n",
              "    }\n",
              "\n",
              "    .colab-df-convert:hover {\n",
              "      background-color: #E2EBFA;\n",
              "      box-shadow: 0px 1px 2px rgba(60, 64, 67, 0.3), 0px 1px 3px 1px rgba(60, 64, 67, 0.15);\n",
              "      fill: #174EA6;\n",
              "    }\n",
              "\n",
              "    [theme=dark] .colab-df-convert {\n",
              "      background-color: #3B4455;\n",
              "      fill: #D2E3FC;\n",
              "    }\n",
              "\n",
              "    [theme=dark] .colab-df-convert:hover {\n",
              "      background-color: #434B5C;\n",
              "      box-shadow: 0px 1px 3px 1px rgba(0, 0, 0, 0.15);\n",
              "      filter: drop-shadow(0px 1px 2px rgba(0, 0, 0, 0.3));\n",
              "      fill: #FFFFFF;\n",
              "    }\n",
              "  </style>\n",
              "\n",
              "      <script>\n",
              "        const buttonEl =\n",
              "          document.querySelector('#df-7b97abb0-db2b-48af-9057-878372d1f4f1 button.colab-df-convert');\n",
              "        buttonEl.style.display =\n",
              "          google.colab.kernel.accessAllowed ? 'block' : 'none';\n",
              "\n",
              "        async function convertToInteractive(key) {\n",
              "          const element = document.querySelector('#df-7b97abb0-db2b-48af-9057-878372d1f4f1');\n",
              "          const dataTable =\n",
              "            await google.colab.kernel.invokeFunction('convertToInteractive',\n",
              "                                                     [key], {});\n",
              "          if (!dataTable) return;\n",
              "\n",
              "          const docLinkHtml = 'Like what you see? Visit the ' +\n",
              "            '<a target=\"_blank\" href=https://colab.research.google.com/notebooks/data_table.ipynb>data table notebook</a>'\n",
              "            + ' to learn more about interactive tables.';\n",
              "          element.innerHTML = '';\n",
              "          dataTable['output_type'] = 'display_data';\n",
              "          await google.colab.output.renderOutput(dataTable, element);\n",
              "          const docLink = document.createElement('div');\n",
              "          docLink.innerHTML = docLinkHtml;\n",
              "          element.appendChild(docLink);\n",
              "        }\n",
              "      </script>\n",
              "    </div>\n",
              "  </div>\n",
              "  "
            ]
          },
          "metadata": {},
          "execution_count": 66
        }
      ]
    },
    {
      "cell_type": "code",
      "source": [
        "inputs_n = input_1.drop(['College', 'Branch'], axis='columns')\n",
        "inputs_n"
      ],
      "metadata": {
        "colab": {
          "base_uri": "https://localhost:8080/",
          "height": 363
        },
        "id": "72AK-fb52C9H",
        "outputId": "ada4a089-1558-4ee9-800a-3c7bfbace3be"
      },
      "execution_count": 67,
      "outputs": [
        {
          "output_type": "execute_result",
          "data": {
            "text/plain": [
              "   Coloumn  college_n  branch_n\n",
              "0        1          8         1\n",
              "1        2          2         3\n",
              "2        3          6         2\n",
              "3        4          7         1\n",
              "4        5          3         3\n",
              "5        6          0         1\n",
              "6        7          1         0\n",
              "7        8          9         3\n",
              "8        9          5         2\n",
              "9       10          4         1"
            ],
            "text/html": [
              "\n",
              "  <div id=\"df-9de4c67d-65e6-4384-a84c-6c179dfe718e\">\n",
              "    <div class=\"colab-df-container\">\n",
              "      <div>\n",
              "<style scoped>\n",
              "    .dataframe tbody tr th:only-of-type {\n",
              "        vertical-align: middle;\n",
              "    }\n",
              "\n",
              "    .dataframe tbody tr th {\n",
              "        vertical-align: top;\n",
              "    }\n",
              "\n",
              "    .dataframe thead th {\n",
              "        text-align: right;\n",
              "    }\n",
              "</style>\n",
              "<table border=\"1\" class=\"dataframe\">\n",
              "  <thead>\n",
              "    <tr style=\"text-align: right;\">\n",
              "      <th></th>\n",
              "      <th>Coloumn</th>\n",
              "      <th>college_n</th>\n",
              "      <th>branch_n</th>\n",
              "    </tr>\n",
              "  </thead>\n",
              "  <tbody>\n",
              "    <tr>\n",
              "      <th>0</th>\n",
              "      <td>1</td>\n",
              "      <td>8</td>\n",
              "      <td>1</td>\n",
              "    </tr>\n",
              "    <tr>\n",
              "      <th>1</th>\n",
              "      <td>2</td>\n",
              "      <td>2</td>\n",
              "      <td>3</td>\n",
              "    </tr>\n",
              "    <tr>\n",
              "      <th>2</th>\n",
              "      <td>3</td>\n",
              "      <td>6</td>\n",
              "      <td>2</td>\n",
              "    </tr>\n",
              "    <tr>\n",
              "      <th>3</th>\n",
              "      <td>4</td>\n",
              "      <td>7</td>\n",
              "      <td>1</td>\n",
              "    </tr>\n",
              "    <tr>\n",
              "      <th>4</th>\n",
              "      <td>5</td>\n",
              "      <td>3</td>\n",
              "      <td>3</td>\n",
              "    </tr>\n",
              "    <tr>\n",
              "      <th>5</th>\n",
              "      <td>6</td>\n",
              "      <td>0</td>\n",
              "      <td>1</td>\n",
              "    </tr>\n",
              "    <tr>\n",
              "      <th>6</th>\n",
              "      <td>7</td>\n",
              "      <td>1</td>\n",
              "      <td>0</td>\n",
              "    </tr>\n",
              "    <tr>\n",
              "      <th>7</th>\n",
              "      <td>8</td>\n",
              "      <td>9</td>\n",
              "      <td>3</td>\n",
              "    </tr>\n",
              "    <tr>\n",
              "      <th>8</th>\n",
              "      <td>9</td>\n",
              "      <td>5</td>\n",
              "      <td>2</td>\n",
              "    </tr>\n",
              "    <tr>\n",
              "      <th>9</th>\n",
              "      <td>10</td>\n",
              "      <td>4</td>\n",
              "      <td>1</td>\n",
              "    </tr>\n",
              "  </tbody>\n",
              "</table>\n",
              "</div>\n",
              "      <button class=\"colab-df-convert\" onclick=\"convertToInteractive('df-9de4c67d-65e6-4384-a84c-6c179dfe718e')\"\n",
              "              title=\"Convert this dataframe to an interactive table.\"\n",
              "              style=\"display:none;\">\n",
              "        \n",
              "  <svg xmlns=\"http://www.w3.org/2000/svg\" height=\"24px\"viewBox=\"0 0 24 24\"\n",
              "       width=\"24px\">\n",
              "    <path d=\"M0 0h24v24H0V0z\" fill=\"none\"/>\n",
              "    <path d=\"M18.56 5.44l.94 2.06.94-2.06 2.06-.94-2.06-.94-.94-2.06-.94 2.06-2.06.94zm-11 1L8.5 8.5l.94-2.06 2.06-.94-2.06-.94L8.5 2.5l-.94 2.06-2.06.94zm10 10l.94 2.06.94-2.06 2.06-.94-2.06-.94-.94-2.06-.94 2.06-2.06.94z\"/><path d=\"M17.41 7.96l-1.37-1.37c-.4-.4-.92-.59-1.43-.59-.52 0-1.04.2-1.43.59L10.3 9.45l-7.72 7.72c-.78.78-.78 2.05 0 2.83L4 21.41c.39.39.9.59 1.41.59.51 0 1.02-.2 1.41-.59l7.78-7.78 2.81-2.81c.8-.78.8-2.07 0-2.86zM5.41 20L4 18.59l7.72-7.72 1.47 1.35L5.41 20z\"/>\n",
              "  </svg>\n",
              "      </button>\n",
              "      \n",
              "  <style>\n",
              "    .colab-df-container {\n",
              "      display:flex;\n",
              "      flex-wrap:wrap;\n",
              "      gap: 12px;\n",
              "    }\n",
              "\n",
              "    .colab-df-convert {\n",
              "      background-color: #E8F0FE;\n",
              "      border: none;\n",
              "      border-radius: 50%;\n",
              "      cursor: pointer;\n",
              "      display: none;\n",
              "      fill: #1967D2;\n",
              "      height: 32px;\n",
              "      padding: 0 0 0 0;\n",
              "      width: 32px;\n",
              "    }\n",
              "\n",
              "    .colab-df-convert:hover {\n",
              "      background-color: #E2EBFA;\n",
              "      box-shadow: 0px 1px 2px rgba(60, 64, 67, 0.3), 0px 1px 3px 1px rgba(60, 64, 67, 0.15);\n",
              "      fill: #174EA6;\n",
              "    }\n",
              "\n",
              "    [theme=dark] .colab-df-convert {\n",
              "      background-color: #3B4455;\n",
              "      fill: #D2E3FC;\n",
              "    }\n",
              "\n",
              "    [theme=dark] .colab-df-convert:hover {\n",
              "      background-color: #434B5C;\n",
              "      box-shadow: 0px 1px 3px 1px rgba(0, 0, 0, 0.15);\n",
              "      filter: drop-shadow(0px 1px 2px rgba(0, 0, 0, 0.3));\n",
              "      fill: #FFFFFF;\n",
              "    }\n",
              "  </style>\n",
              "\n",
              "      <script>\n",
              "        const buttonEl =\n",
              "          document.querySelector('#df-9de4c67d-65e6-4384-a84c-6c179dfe718e button.colab-df-convert');\n",
              "        buttonEl.style.display =\n",
              "          google.colab.kernel.accessAllowed ? 'block' : 'none';\n",
              "\n",
              "        async function convertToInteractive(key) {\n",
              "          const element = document.querySelector('#df-9de4c67d-65e6-4384-a84c-6c179dfe718e');\n",
              "          const dataTable =\n",
              "            await google.colab.kernel.invokeFunction('convertToInteractive',\n",
              "                                                     [key], {});\n",
              "          if (!dataTable) return;\n",
              "\n",
              "          const docLinkHtml = 'Like what you see? Visit the ' +\n",
              "            '<a target=\"_blank\" href=https://colab.research.google.com/notebooks/data_table.ipynb>data table notebook</a>'\n",
              "            + ' to learn more about interactive tables.';\n",
              "          element.innerHTML = '';\n",
              "          dataTable['output_type'] = 'display_data';\n",
              "          await google.colab.output.renderOutput(dataTable, element);\n",
              "          const docLink = document.createElement('div');\n",
              "          docLink.innerHTML = docLinkHtml;\n",
              "          element.appendChild(docLink);\n",
              "        }\n",
              "      </script>\n",
              "    </div>\n",
              "  </div>\n",
              "  "
            ]
          },
          "metadata": {},
          "execution_count": 67
        }
      ]
    },
    {
      "cell_type": "code",
      "source": [
        "from sklearn.tree import DecisionTreeClassifier"
      ],
      "metadata": {
        "id": "-G3WrnLX3CSm"
      },
      "execution_count": 69,
      "outputs": []
    },
    {
      "cell_type": "code",
      "source": [
        "test_model = DecisionTreeClassifier()\n",
        "test_model.fit(inputs_n, target)\n",
        "test_model.score(inputs_n, target)"
      ],
      "metadata": {
        "colab": {
          "base_uri": "https://localhost:8080/"
        },
        "id": "X1Mrm_AM3KRK",
        "outputId": "b8bdbe10-0f39-4bc7-d6fe-94fc682bcc00"
      },
      "execution_count": 71,
      "outputs": [
        {
          "output_type": "execute_result",
          "data": {
            "text/plain": [
              "1.0"
            ]
          },
          "metadata": {},
          "execution_count": 71
        }
      ]
    },
    {
      "cell_type": "code",
      "source": [
        "test_model.predict([[2,2,3]])"
      ],
      "metadata": {
        "colab": {
          "base_uri": "https://localhost:8080/"
        },
        "id": "VKpoABS24ObW",
        "outputId": "cb901aaa-5a11-4844-c393-9cb158ac5bda"
      },
      "execution_count": 70,
      "outputs": [
        {
          "output_type": "stream",
          "name": "stderr",
          "text": [
            "/usr/local/lib/python3.7/dist-packages/sklearn/base.py:451: UserWarning: X does not have valid feature names, but DecisionTreeClassifier was fitted with feature names\n",
            "  \"X does not have valid feature names, but\"\n"
          ]
        },
        {
          "output_type": "execute_result",
          "data": {
            "text/plain": [
              "array([0])"
            ]
          },
          "metadata": {},
          "execution_count": 70
        }
      ]
    }
  ]
}