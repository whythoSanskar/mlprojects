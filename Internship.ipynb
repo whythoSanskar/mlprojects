{
  "nbformat": 4,
  "nbformat_minor": 0,
  "metadata": {
    "colab": {
      "name": "Internship.ipynb",
      "provenance": [],
      "authorship_tag": "ABX9TyNWvw6YKmyddxojnrhltWDB",
      "include_colab_link": true
    },
    "kernelspec": {
      "name": "python3",
      "display_name": "Python 3"
    },
    "language_info": {
      "name": "python"
    }
  },
  "cells": [
    {
      "cell_type": "markdown",
      "metadata": {
        "id": "view-in-github",
        "colab_type": "text"
      },
      "source": [
        "<a href=\"https://colab.research.google.com/github/whythoSanskar/mlprojects/blob/main/Internship.ipynb\" target=\"_parent\"><img src=\"https://colab.research.google.com/assets/colab-badge.svg\" alt=\"Open In Colab\"/></a>"
      ]
    },
    {
      "cell_type": "markdown",
      "source": [
        "\n",
        "1. Develop code using (Numpy, Pandas, Matplotlib)."
      ],
      "metadata": {
        "id": "R9uwPo57lLWz"
      }
    },
    {
      "cell_type": "code",
      "source": [
        "%matplotlib inline\n",
        "import pandas as pd\n",
        "import matplotlib.pyplot as plt\n",
        "import numpy as np\n",
        "\n",
        "\n",
        "df=pd.read_excel(r\"/content/Book 2 (1).xlsx\")\n",
        "df\n",
        "x = df['Position']\n",
        "y = df['Salary']\n",
        "plt.plot(x,y, color = \"blue\")\n",
        "plt.show()\n",
        "\n",
        "col_to_list = df['Salary'].to_list()\n",
        "col_to_arr =  df['Salary'].to_numpy()\n",
        "\n",
        "\n",
        "print(col_to_arr)"
      ],
      "metadata": {
        "id": "8L8jfC7JlK6p",
        "colab": {
          "base_uri": "https://localhost:8080/",
          "height": 282
        },
        "outputId": "2bd9d0a6-2b02-48f4-a196-9f1901b4749e"
      },
      "execution_count": null,
      "outputs": [
        {
          "output_type": "display_data",
          "data": {
            "text/plain": [
              "<Figure size 432x288 with 1 Axes>"
            ],
            "image/png": "[encoded data removed]"
          },
          "metadata": {
            "needs_background": "light"
          }
        },
        {
          "output_type": "stream",
          "name": "stdout",
          "text": [
            "[20000  5000 40000  5000 14000 20000  5000 14000  5000 14000]\n"
          ]
        }
      ]
    },
    {
      "cell_type": "markdown",
      "source": [
        "2. Create a program to show recursive function (Except factorial)."
      ],
      "metadata": {
        "id": "3QKViht3BIBm"
      }
    },
    {
      "cell_type": "code",
      "source": [
        "# recursive function\n",
        "s = int(input(\"Enter the two numbers to find gcd: \"))\n",
        "d = int(input(\"Enter the other number: \"))\n",
        "\n",
        "\n",
        "def GCD_num(s,d):\n",
        "  low = min(s,d)\n",
        "  high = max(s,d)\n",
        "\n",
        "  if low == 0:\n",
        "    return high\n",
        "  elif low == 1:\n",
        "    return 1\n",
        "  else:\n",
        "    return GCD_num(low, high%low)\n",
        "\n",
        "print(GCD_num(s,d))\n",
        " "
      ],
      "metadata": {
        "colab": {
          "base_uri": "https://localhost:8080/"
        },
        "id": "RW3gTQEPIKvV",
        "outputId": "fcd38665-f07d-4989-9f35-2ba40a4ef282"
      },
      "execution_count": null,
      "outputs": [
        {
          "output_type": "stream",
          "name": "stdout",
          "text": [
            "Enter the two numbers to find gcd: 22\n",
            "Enter the other number: 24\n",
            "2\n"
          ]
        }
      ]
    },
    {
      "cell_type": "code",
      "source": [
        "# forwarding messages\n",
        "\n",
        "messages = [\"Ishan\", \"Yash\", \"Mayank\", \"Ishaan\", \"Vibhanshu\"]\n",
        "\n",
        "def forward_messages():\n",
        "  try:\n",
        "    if y < 6:\n",
        "      print(\"Your message \" + x + \" is sending to \" + messages[y])\n",
        "    elif y == 6:\n",
        "      for message in messages:\n",
        "        print(\"Your message \" + x + \" is sending to \" + message)\n",
        "  except:\n",
        "    print(\"Error\")\n",
        "\n",
        "x = input(\"Enter the message you want to forward to: \")\n",
        "y = int(input(\"Enter the person that you have to send message:\\n(0) Ishan\\n\\n(1) Yash\\n\\n(2) Mayank\\n\\n(3) Ishaan\\n\\n(4) Vibhanshu\\n\\n(5) All\\n\\n: \"))\n",
        "if x == \"\":\n",
        "  print(\"error\")\n",
        "else:\n",
        "  forward_messages()\n"
      ],
      "metadata": {
        "colab": {
          "base_uri": "https://localhost:8080/"
        },
        "id": "TduAxu02BRTv",
        "outputId": "9d75a9a0-fab0-42ab-ddf5-c29d3d69b871"
      },
      "execution_count": null,
      "outputs": [
        {
          "output_type": "stream",
          "name": "stdout",
          "text": [
            "Enter the message you want to forward to: we\n",
            "Enter the person that you have to send message:\n",
            "(0) Ishan\n",
            "\n",
            "(1) Yash\n",
            "\n",
            "(2) Mayank\n",
            "\n",
            "(3) Ishaan\n",
            "\n",
            "(4) Vibhanshu\n",
            "\n",
            "(5) All\n",
            "\n",
            ": 0\n",
            "Your message weis sending to Ishan\n"
          ]
        }
      ]
    },
    {
      "cell_type": "markdown",
      "source": [
        "Matrix multiplication in Numpy and how to inverse a matrix using Numpy.\n"
      ],
      "metadata": {
        "id": "PUo0Yu33Ie6Q"
      }
    },
    {
      "cell_type": "code",
      "source": [
        "import numpy as np\n",
        "# input the matrix \n",
        "mat1 = ([1,2,3], [4,5,6], [8,7,9])\n",
        "mat2 = ([17,32,4], [6,3,8], [9,10,2])\n",
        "# multiplying the matrix\n",
        "matf = np.multiply(mat1,mat2)\n",
        "matg = np.dot(mat1,mat2)\n",
        "print(matf)\n",
        "print(matg)\n",
        "# calculationg inverse of matrix\n",
        "print(np.linalg.inv(matf))"
      ],
      "metadata": {
        "colab": {
          "base_uri": "https://localhost:8080/"
        },
        "id": "FBPDbnjvIkQr",
        "outputId": "05a85514-4269-4ce7-cb4f-d761810620e4"
      },
      "execution_count": null,
      "outputs": [
        {
          "output_type": "stream",
          "name": "stdout",
          "text": [
            "[[17 64 12]\n",
            " [24 15 48]\n",
            " [72 70 18]]\n",
            "[[ 56  68  26]\n",
            " [152 203  68]\n",
            " [259 367 106]]\n",
            "[[-0.02084936 -0.00210518  0.01951338]\n",
            " [ 0.02040403 -0.00376503 -0.00356261]\n",
            " [ 0.00404842  0.02306249 -0.00864337]]\n"
          ]
        }
      ]
    },
    {
      "cell_type": "markdown",
      "source": [
        "(4) Prepare the data and create the mean median mode for the following data."
      ],
      "metadata": {
        "id": "8wVoawL_oV4g"
      }
    },
    {
      "cell_type": "code",
      "source": [
        "import pandas as pd\n",
        "\n",
        "# df = pd.read_excel(r\"/content/Book 2 (1).xlsx\")\n",
        "# df"
      ],
      "metadata": {
        "id": "5tVppgpvNpsM"
      },
      "execution_count": null,
      "outputs": []
    },
    {
      "cell_type": "code",
      "source": [
        "df['Salary'].mode()"
      ],
      "metadata": {
        "colab": {
          "base_uri": "https://localhost:8080/"
        },
        "id": "8Y6PvXIXbLlm",
        "outputId": "f063394a-e2e8-4b95-e49d-947630ad43fe"
      },
      "execution_count": null,
      "outputs": [
        {
          "output_type": "execute_result",
          "data": {
            "text/plain": [
              "0    5000\n",
              "dtype: int64"
            ]
          },
          "metadata": {},
          "execution_count": 26
        }
      ]
    },
    {
      "cell_type": "code",
      "source": [
        "df['Salary'].median()"
      ],
      "metadata": {
        "colab": {
          "base_uri": "https://localhost:8080/"
        },
        "id": "V1AYgamTjBrV",
        "outputId": "ec711118-9dcd-4951-8686-410b00f27252"
      },
      "execution_count": null,
      "outputs": [
        {
          "output_type": "execute_result",
          "data": {
            "text/plain": [
              "14000.0"
            ]
          },
          "metadata": {},
          "execution_count": 27
        }
      ]
    },
    {
      "cell_type": "code",
      "source": [
        "df['Salary'].mean()"
      ],
      "metadata": {
        "colab": {
          "base_uri": "https://localhost:8080/"
        },
        "id": "4e7l2qkgjHWQ",
        "outputId": "00d31e3f-a421-41f2-f1c4-667ecb7d62da"
      },
      "execution_count": null,
      "outputs": [
        {
          "output_type": "execute_result",
          "data": {
            "text/plain": [
              "14200.0"
            ]
          },
          "metadata": {},
          "execution_count": 28
        }
      ]
    },
    {
      "cell_type": "markdown",
      "source": [
        "(5) How to set a single Main Title for All the Subplots in Matplotlib."
      ],
      "metadata": {
        "id": "gRnvl5RronEa"
      }
    },
    {
      "cell_type": "markdown",
      "source": [
        " We use matplotlib. pyplot. suptitle() method to set main title common to all subplots in Matplotlib."
      ],
      "metadata": {
        "id": "PxXg2HXRG5Qa"
      }
    },
    {
      "cell_type": "code",
      "source": [
        "fig, (ax1, ax2) = plt.subplots(1, 2, figsize=(12, 5))\n",
        "x = df['Position']\n",
        "y = df['Salary']\n",
        "labels = [\"Data1\", \"Data2\"]\n",
        "fig.suptitle(' Data of postion of people and their salaries ', fontsize=30)\n",
        "l1 = ax1.plot(x, y, 'o-', color='g')\n",
        "l2 = ax2.plot(x1, y, 'o-')\n",
        "\n",
        "fig.legend([l1, l2], labels=labels,\n",
        "           loc=\"upper right\")\n",
        "plt.subplots_adjust(right=0.9)\n",
        "plt.show()\n",
        "\n",
        "\n"
      ],
      "metadata": {
        "colab": {
          "base_uri": "https://localhost:8080/",
          "height": 374
        },
        "id": "fa7b2Uq_HDWb",
        "outputId": "2041bb06-8359-4b1b-bc43-1441e3309828"
      },
      "execution_count": null,
      "outputs": [
        {
          "output_type": "stream",
          "name": "stderr",
          "text": [
            "/usr/local/lib/python3.7/dist-packages/ipykernel_launcher.py:10: UserWarning: You have mixed positional and keyword arguments, some input may be discarded.\n",
            "  # Remove the CWD from sys.path while we load stuff.\n"
          ]
        },
        {
          "output_type": "display_data",
          "data": {
            "text/plain": [
              "<Figure size 864x360 with 2 Axes>"
            ],
            "image/png": "[encoded data removed]"
          },
          "metadata": {
            "needs_background": "light"
          }
        }
      ]
    }
  ]
}